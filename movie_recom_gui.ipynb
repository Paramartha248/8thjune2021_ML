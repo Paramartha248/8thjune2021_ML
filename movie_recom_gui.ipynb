{
 "cells": [
  {
   "cell_type": "code",
   "execution_count": 2,
   "id": "ab704646-0ca9-42d4-8570-6108f12c88a9",
   "metadata": {},
   "outputs": [],
   "source": [
    "import tkinter as tk\n",
    "import pandas as pd"
   ]
  },
  {
   "cell_type": "code",
   "execution_count": 3,
   "id": "11be36eb-ffd3-465f-99a0-e4006c7a59cc",
   "metadata": {},
   "outputs": [],
   "source": [
    "import warnings\n",
    "warnings.filterwarnings('ignore')"
   ]
  },
  {
   "cell_type": "code",
   "execution_count": 4,
   "id": "bd020618-28af-4912-b48d-3a583cd6a85f",
   "metadata": {},
   "outputs": [
    {
     "name": "stderr",
     "output_type": "stream",
     "text": [
      "Exception in Tkinter callback\n",
      "Traceback (most recent call last):\n",
      "  File \"C:\\Users\\P. Mohajon\\anaconda3\\lib\\tkinter\\__init__.py\", line 1892, in __call__\n",
      "    return self.func(*args)\n",
      "  File \"<ipython-input-4-3b2b7f6e1dd4>\", line 34, in recommend\n",
      "    recom.drop(inp,axis=0,inplace=True)\n",
      "  File \"C:\\Users\\P. Mohajon\\anaconda3\\lib\\site-packages\\pandas\\core\\frame.py\", line 4308, in drop\n",
      "    return super().drop(\n",
      "  File \"C:\\Users\\P. Mohajon\\anaconda3\\lib\\site-packages\\pandas\\core\\generic.py\", line 4153, in drop\n",
      "    obj = obj._drop_axis(labels, axis, level=level, errors=errors)\n",
      "  File \"C:\\Users\\P. Mohajon\\anaconda3\\lib\\site-packages\\pandas\\core\\generic.py\", line 4188, in _drop_axis\n",
      "    new_axis = axis.drop(labels, errors=errors)\n",
      "  File \"C:\\Users\\P. Mohajon\\anaconda3\\lib\\site-packages\\pandas\\core\\indexes\\base.py\", line 5592, in drop\n",
      "    raise KeyError(f\"{labels[mask]} not found in axis\")\n",
      "KeyError: \"['Jungle Book, The (1994)'] not found in axis\"\n"
     ]
    }
   ],
   "source": [
    "df=pd.read_csv('u.data',sep='\\t',names=['user_id','item_id','rating','ts'])\n",
    "df.head()\n",
    "cols=\"item_id|title| release date | video release date |\\\n",
    "              IMDb URL | unknown | Action | Adventure | Animation |\\\n",
    "              Children's | Comedy | Crime | Documentary | Drama | Fantasy |\\\n",
    "              Film-Noir | Horror | Musical | Mystery | Romance | Sci-Fi |\\\n",
    "              Thriller | War | Western\".split('|')\n",
    "\n",
    "movies=pd.read_csv('u.item',sep='|',names=cols)\n",
    "data=pd.merge(df.drop('ts',axis=1),movies[['item_id','title']],on='item_id')\n",
    "rate_count=data.groupby('title')['rating'].count()\n",
    "df_pivot=data.pivot_table(index='user_id',columns='title',values='rating')\n",
    "\n",
    "\n",
    "\n",
    "\n",
    "\n",
    "app=tk.Tk()\n",
    "app.geometry('450x300')\n",
    "app.title('Movie Recomendation System')\n",
    "\n",
    "listbox=tk.Listbox(app,height=15,width=30,bg='grey',fg='black')\n",
    "listbox.place(x=20,y=20)\n",
    "\n",
    "for i,t in enumerate(data['title'].unique()):\n",
    "    listbox.insert(i+1,t)\n",
    "\n",
    "    \n",
    "def recommend():\n",
    "    inp=listbox.get(listbox.curselection())\n",
    "    sim_df=pd.DataFrame(df_pivot.corrwith(df_pivot[inp]),columns=['corr'])\n",
    "    sim_df['count']=rate_count  \n",
    "    recom=sim_df[(sim_df['count']>100)].sort_values(by='corr',ascending=False)\n",
    "    recom.drop(inp,axis=0,inplace=True)\n",
    "    recommended=recom.index[:3]\n",
    "    result1.set(recommended[0])\n",
    "    result2.set(recommended[1])\n",
    "    result3.set(recommended[2])\n",
    "    print(inp)\n",
    "    print(recommended)\n",
    "\n",
    "tk.Button(app,text='Show Recommendation',command=recommend,bg='red',fg='white').place(x=250,y=30)\n",
    "\n",
    "result1=tk.Variable(app)\n",
    "result1.set('.')\n",
    "tk.Label(app,textvariable=result1).place(x=250,y=100)\n",
    "\n",
    "result2=tk.Variable(app)\n",
    "result2.set('.')\n",
    "tk.Label(app,textvariable=result2).place(x=250,y=150)\n",
    "\n",
    "result3=tk.Variable(app)\n",
    "result3.set('.')\n",
    "tk.Label(app,textvariable=result3).place(x=250,y=200)\n",
    "app.mainloop()"
   ]
  },
  {
   "cell_type": "code",
   "execution_count": null,
   "id": "675611f2-580d-435d-a237-9d8263546e2a",
   "metadata": {},
   "outputs": [],
   "source": []
  }
 ],
 "metadata": {
  "kernelspec": {
   "display_name": "Python 3",
   "language": "python",
   "name": "python3"
  },
  "language_info": {
   "codemirror_mode": {
    "name": "ipython",
    "version": 3
   },
   "file_extension": ".py",
   "mimetype": "text/x-python",
   "name": "python",
   "nbconvert_exporter": "python",
   "pygments_lexer": "ipython3",
   "version": "3.8.8"
  }
 },
 "nbformat": 4,
 "nbformat_minor": 5
}
